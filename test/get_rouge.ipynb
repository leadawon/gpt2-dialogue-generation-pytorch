{
 "cells": [
  {
   "cell_type": "code",
   "execution_count": 7,
   "metadata": {
    "colab": {
     "base_uri": "https://localhost:8080/"
    },
    "executionInfo": {
     "elapsed": 7274,
     "status": "ok",
     "timestamp": 1681287947516,
     "user": {
      "displayName": "이다원",
      "userId": "11923633709773630529"
     },
     "user_tz": -540
    },
    "id": "ZNUa7bW2mc3p",
    "outputId": "37d61c9c-9f62-4235-dff1-102be5f06932"
   },
   "outputs": [
    {
     "name": "stdout",
     "output_type": "stream",
     "text": [
      "/home/irteam/cha970214-dcloud-dir/cha970214/Desktop/leedawon/gpt2-dialogue-generation-pytorch/test\r\n"
     ]
    }
   ],
   "source": [
    "!pwd"
   ]
  },
  {
   "cell_type": "code",
   "execution_count": 8,
   "metadata": {
    "executionInfo": {
     "elapsed": 11,
     "status": "ok",
     "timestamp": 1681287947517,
     "user": {
      "displayName": "이다원",
      "userId": "11923633709773630529"
     },
     "user_tz": -540
    },
    "id": "Ivb0vIk4mQV2"
   },
   "outputs": [],
   "source": [
    "from rouge import Rouge\n",
    "import json\n",
    "rouge = Rouge()"
   ]
  },
  {
   "cell_type": "code",
   "execution_count": 9,
   "metadata": {
    "colab": {
     "base_uri": "https://localhost:8080/"
    },
    "executionInfo": {
     "elapsed": 418,
     "status": "ok",
     "timestamp": 1681287998860,
     "user": {
      "displayName": "이다원",
      "userId": "11923633709773630529"
     },
     "user_tz": -540
    },
    "id": "22vl9XBrqiiF",
    "outputId": "741ef6c3-1851-47aa-d4a7-3053201350b5"
   },
   "outputs": [
    {
     "name": "stdout",
     "output_type": "stream",
     "text": [
      "[{'rouge-1': {'r': 0.6, 'p': 0.6, 'f': 0.5999999950000001}, 'rouge-2': {'r': 0.5, 'p': 0.5, 'f': 0.4999999950000001}, 'rouge-l': {'r': 0.6, 'p': 0.6, 'f': 0.5999999950000001}}]\n"
     ]
    }
   ],
   "source": [
    "print(rouge.get_scores(\"i love natural language processing\",\"he loves natural language processing\"))"
   ]
  },
  {
   "cell_type": "code",
   "execution_count": 10,
   "metadata": {
    "id": "K8937tMqIRmS"
   },
   "outputs": [],
   "source": [
    "\n",
    "with open(\"json/gt.json\",\"r\") as f:\n",
    "    gt = json.load(f)\n",
    "\n",
    "with open(\"json/bart_5e.json\", \"r\") as f:\n",
    "    b_data = json.load(f)\n",
    "\n",
    "# with open(\"json/multiturn_11e.json\", \"r\") as f:\n",
    "#     m_data = json.load(f)\n",
    "\n",
    "# with open(\"json/textrank_11e.json\", \"r\") as f:\n",
    "#     t_data = json.load(f)\n",
    "\n",
    "# with open(\"json/pegasus_11e.json\", \"r\") as f:\n",
    "#     p_data = json.load(f)\n",
    "\n",
    "b_ans = b_data[\"ans\"]\n",
    "\n",
    "# m_ans = m_data[\"ans\"]\n",
    "\n",
    "# t_ans = t_data[\"ans\"]\n",
    "\n",
    "# p_ans = p_data[\"ans\"]\n",
    "\n",
    "gt_ans = gt[\"ans\"][:200]"
   ]
  },
  {
   "cell_type": "code",
   "execution_count": 11,
   "metadata": {
    "id": "egDj3041QCzV"
   },
   "outputs": [],
   "source": [
    "for i,v in enumerate(b_ans):\n",
    "    if v == \"\":\n",
    "        b_ans[i]=\"_\"\n",
    "# for i,v in enumerate(m_ans):\n",
    "#     if v == \"\":\n",
    "#         m_ans[i]=\"_\"\n",
    "# for i,v in enumerate(t_ans):\n",
    "#     if v == \"\":\n",
    "#         t_ans[i]=\"_\"\n",
    "# for i,v in enumerate(p_ans):\n",
    "#     if v == \"\":\n",
    "#         p_ans[i]=\"_\""
   ]
  },
  {
   "cell_type": "code",
   "execution_count": 12,
   "metadata": {
    "colab": {
     "base_uri": "https://localhost:8080/"
    },
    "executionInfo": {
     "elapsed": 1477,
     "status": "ok",
     "timestamp": 1681187107026,
     "user": {
      "displayName": "이다원",
      "userId": "11923633709773630529"
     },
     "user_tz": -540
    },
    "id": "i--6oOFqgIqi",
    "outputId": "84a9ef71-86a7-4b6b-f9f2-353d9a6ddf96"
   },
   "outputs": [
    {
     "name": "stdout",
     "output_type": "stream",
     "text": [
      "0.0647687643621242\n",
      "0.0\n",
      "0.0\n",
      "0.0\n"
     ]
    }
   ],
   "source": [
    "scores = [0,0,0,0]\n",
    "#candidates = [b_ans, m_ans, t_ans, p_ans]\n",
    "candidates = [b_ans]\n",
    "for i,c in enumerate(candidates):\n",
    "    for h,r in zip(c,gt_ans):\n",
    "        scores[i]+=rouge.get_scores([h],[r])[0]['rouge-1']['f']\n",
    "\n",
    "for sc in scores:\n",
    "    print(sc/200)\n",
    "    "
   ]
  },
  {
   "cell_type": "code",
   "execution_count": null,
   "metadata": {},
   "outputs": [],
   "source": []
  }
 ],
 "metadata": {
  "colab": {
   "authorship_tag": "ABX9TyO9XGbjuEJiEoSFWKhn69sQ",
   "provenance": []
  },
  "kernelspec": {
   "display_name": "Python 3 (ipykernel)",
   "language": "python",
   "name": "python3"
  },
  "language_info": {
   "codemirror_mode": {
    "name": "ipython",
    "version": 3
   },
   "file_extension": ".py",
   "mimetype": "text/x-python",
   "name": "python",
   "nbconvert_exporter": "python",
   "pygments_lexer": "ipython3",
   "version": "3.8.16"
  }
 },
 "nbformat": 4,
 "nbformat_minor": 1
}
